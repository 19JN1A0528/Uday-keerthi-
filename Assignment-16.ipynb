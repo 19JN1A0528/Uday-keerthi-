{
 "cells": [
  {
   "cell_type": "code",
   "execution_count": 1,
   "id": "104f4e67",
   "metadata": {},
   "outputs": [
    {
     "name": "stdout",
     "output_type": "stream",
     "text": [
      "Enter the Word :incredible\n",
      "incredible ➞ in... in... incredible?\n",
      "Enter the Word :uday\n",
      "uday ➞ ud... ud... uday?\n",
      "Enter the Word :keerthi\n",
      "keerthi ➞ ke... ke... keerthi?\n"
     ]
    }
   ],
   "source": [
    "def stutterWord():\n",
    "    in_string = input('Enter the Word :')\n",
    "    out_string = in_string.replace(in_string[0:2],((in_string[0:2]+'... ')*2)+ in_string[0:2])  +'?'\n",
    "    print(f'{in_string} ➞ {out_string}')\n",
    "\n",
    "for i in range(3):\n",
    "    stutterWord()\n"
   ]
  },
  {
   "cell_type": "code",
   "execution_count": 2,
   "id": "19de50d5",
   "metadata": {},
   "outputs": [
    {
     "name": "stdout",
     "output_type": "stream",
     "text": [
      "Enter the angle in Radians: 1\n",
      "1 radian(s) ➞ 57.3 degrees\n",
      "Enter the angle in Radians: 20\n",
      "20 radian(s) ➞ 1145.9 degrees\n",
      "Enter the angle in Radians: 14\n",
      "14 radian(s) ➞ 802.1 degrees\n"
     ]
    }
   ],
   "source": [
    "import math\n",
    "def radianToDegree():\n",
    "    in_num = int(input('Enter the angle in Radians: '))\n",
    "    out_num = (180/math.pi)*in_num\n",
    "    print(f'{in_num} radian(s) ➞ {out_num:.1f} degrees')\n",
    "\n",
    "for x in range(3):\n",
    "    radianToDegree()\n"
   ]
  },
  {
   "cell_type": "code",
   "execution_count": 3,
   "id": "9ec52b6e",
   "metadata": {},
   "outputs": [
    {
     "name": "stdout",
     "output_type": "stream",
     "text": [
      "Enter a number: 5\n",
      "5 is a Curzon Number\n",
      "Enter a number: 14\n",
      "14 is a Curzon Number\n",
      "Enter a number: 24\n",
      "24 is Not a Curzon Number\n",
      "Enter a number: 10\n",
      "10 is Not a Curzon Number\n"
     ]
    }
   ],
   "source": [
    "def checkCurzon():\n",
    "    in_num = int(input(\"Enter a number: \"))\n",
    "    if (pow(2,in_num)+1)%((2*in_num)+1) == 0:\n",
    "        print(f'{in_num} is a Curzon Number')\n",
    "    else:\n",
    "        print(f'{in_num} is Not a Curzon Number')\n",
    "\n",
    "for x in range(4):\n",
    "    checkCurzon()\n"
   ]
  },
  {
   "cell_type": "code",
   "execution_count": 5,
   "id": "d3c108dc",
   "metadata": {},
   "outputs": [
    {
     "name": "stdout",
     "output_type": "stream",
     "text": [
      "Enter the side length of a Hexagon: 1\n",
      "Area for Hexagon of sidelength 1 ➞ 2.6\n",
      "Enter the side length of a Hexagon: 3\n",
      "Area for Hexagon of sidelength 3 ➞ 23.4\n",
      "Enter the side length of a Hexagon: 6\n",
      "Area for Hexagon of sidelength 6 ➞ 93.5\n"
     ]
    }
   ],
   "source": [
    "import math\n",
    "def areaOfHexagon():\n",
    "    in_num = int(input('Enter the side length of a Hexagon: '))\n",
    "    out_num = ((3*math.sqrt(3))/2)*(pow(in_num,2))\n",
    "    print(f'Area for Hexagon of sidelength {in_num} ➞ {out_num:.1f}')\n",
    "    \n",
    "for x in range(3):\n",
    "    areaOfHexagon()"
   ]
  },
  {
   "cell_type": "code",
   "execution_count": 6,
   "id": "346a747d",
   "metadata": {},
   "outputs": [
    {
     "name": "stdout",
     "output_type": "stream",
     "text": [
      "Enter a Number: 1\n",
      "Binary of 1 ➞ 1\n",
      "Enter a Number: 5\n",
      "Binary of 5 ➞ 101\n",
      "Enter a Number: 101\n",
      "Binary of 101 ➞ 1100101\n"
     ]
    }
   ],
   "source": [
    "def getBinary():\n",
    "    in_num = int(input(\"Enter a Number: \"))\n",
    "    out_num = bin(in_num).replace('0b','') \n",
    "    print(f'Binary of {in_num} ➞ {out_num}')\n",
    "\n",
    "for x in range(3):\n",
    "    getBinary()\n"
   ]
  },
  {
   "cell_type": "markdown",
   "id": "b69608f7",
   "metadata": {},
   "source": []
  }
 ],
 "metadata": {
  "kernelspec": {
   "display_name": "Python 3",
   "language": "python",
   "name": "python3"
  },
  "language_info": {
   "codemirror_mode": {
    "name": "ipython",
    "version": 3
   },
   "file_extension": ".py",
   "mimetype": "text/x-python",
   "name": "python",
   "nbconvert_exporter": "python",
   "pygments_lexer": "ipython3",
   "version": "3.8.8"
  }
 },
 "nbformat": 4,
 "nbformat_minor": 5
}
