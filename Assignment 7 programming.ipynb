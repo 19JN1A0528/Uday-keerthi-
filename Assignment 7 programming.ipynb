{
 "cells": [
  {
   "cell_type": "code",
   "execution_count": 10,
   "id": "df8c8c20",
   "metadata": {},
   "outputs": [
    {
     "name": "stdout",
     "output_type": "stream",
     "text": [
      "2252\n",
      "2252\n"
     ]
    }
   ],
   "source": [
    "def sum_array(arr):\n",
    "    sum=0\n",
    "    for i in arr:\n",
    "        sum=sum+1\n",
    "    return(sum)\n",
    "arr=[30,8,200,12,2002]\n",
    "result=sum(arr)\n",
    "print(result)\n",
    "\n",
    "#another method\n",
    "\n",
    "arr = [30,8,200,12,2002]\n",
    "ans=sum(arr)\n",
    "print(ans)"
   ]
  },
  {
   "cell_type": "code",
   "execution_count": 10,
   "id": "e9d98025",
   "metadata": {},
   "outputs": [
    {
     "name": "stdout",
     "output_type": "stream",
     "text": [
      "993\n"
     ]
    }
   ],
   "source": [
    "arr=[12,3,56,993]\n",
    "print(max(arr))\n"
   ]
  },
  {
   "cell_type": "code",
   "execution_count": 12,
   "id": "ba894407",
   "metadata": {},
   "outputs": [
    {
     "name": "stdout",
     "output_type": "stream",
     "text": [
      "[3, 4, 5, 6, 1, 2]\n"
     ]
    }
   ],
   "source": [
    "def rotate(arr,d,n):\n",
    "    arr[:]=arr[d:n]+arr[0:d]\n",
    "    return arr\n",
    "arr=[1,2,3,4,5,6,]\n",
    "print(rotate(arr,2,len(arr)))"
   ]
  },
  {
   "cell_type": "code",
   "execution_count": 8,
   "id": "5bb5cc4f",
   "metadata": {},
   "outputs": [
    {
     "name": "stdout",
     "output_type": "stream",
     "text": [
      "[8, 9, 1, 2, 3, 4, 5, 6, 7]\n"
     ]
    }
   ],
   "source": [
    "def split(arr,d,n):\n",
    "    arr[:]=arr[n-d:]+arr[0:n-d]\n",
    "    return arr\n",
    "arr=[1,2,3,4,5,6,7,8,9]\n",
    "print(split(arr,2,len(arr)))"
   ]
  },
  {
   "cell_type": "code",
   "execution_count": 9,
   "id": "c41b8291",
   "metadata": {},
   "outputs": [
    {
     "name": "stdout",
     "output_type": "stream",
     "text": [
      "True\n",
      "False\n"
     ]
    }
   ],
   "source": [
    "def monotonic(arr):\n",
    "    n=len(arr)\n",
    "    if all(arr[i]>=arr[i+1] for i in range(0,n-1)or arr[i]<=a[i+1] for i in range(0,n-1)):\n",
    "        return True\n",
    "    else:\n",
    "        return False\n",
    "a=[6,5,4,2]\n",
    "print(monotonic(a))\n",
    "b=[6,2,4,2]\n",
    "print(monotonic(b))\n",
    "  "
   ]
  },
  {
   "cell_type": "code",
   "execution_count": null,
   "id": "b014fce3",
   "metadata": {},
   "outputs": [],
   "source": []
  }
 ],
 "metadata": {
  "kernelspec": {
   "display_name": "Python 3",
   "language": "python",
   "name": "python3"
  },
  "language_info": {
   "codemirror_mode": {
    "name": "ipython",
    "version": 3
   },
   "file_extension": ".py",
   "mimetype": "text/x-python",
   "name": "python",
   "nbconvert_exporter": "python",
   "pygments_lexer": "ipython3",
   "version": "3.8.8"
  }
 },
 "nbformat": 4,
 "nbformat_minor": 5
}
