{
 "cells": [
  {
   "cell_type": "code",
   "execution_count": 1,
   "metadata": {},
   "outputs": [
    {
     "name": "stdout",
     "output_type": "stream",
     "text": [
      "6\n",
      "9\n",
      "lcm of 6 and 9 is 18\n"
     ]
    }
   ],
   "source": [
    "def lcm(x,y):\n",
    "    if (x > y):\n",
    "        g = x\n",
    "    else:\n",
    "        g = y\n",
    "    while(True):\n",
    "        if(g%x==0) and (g%y==0):\n",
    "            lcm=g\n",
    "            break\n",
    "        g+=1\n",
    "    return lcm\n",
    "a=int(input())\n",
    "b=int(input())\n",
    "print(\"lcm of\",a,\"and\",b,\"is\",lcm(a,b))\n",
    "\n",
    "    "
   ]
  },
  {
   "cell_type": "code",
   "execution_count": 1,
   "metadata": {},
   "outputs": [
    {
     "name": "stdout",
     "output_type": "stream",
     "text": [
      "6\n",
      "4\n",
      "gcd of 6 and 4 is 2\n"
     ]
    }
   ],
   "source": [
    "def gcd(x,y):\n",
    "    if(x>y):\n",
    "        s=x\n",
    "    else:\n",
    "        s=y\n",
    "    for i in range(1,s+1):\n",
    "        if(x%i==0)and(y%i==0):\n",
    "            gcd=i\n",
    "    return gcd\n",
    "a=int(input())\n",
    "b=int(input())\n",
    "print(\"gcd of\",a,\"and\",b,\"is\",gcd(a,b))"
   ]
  },
  {
   "cell_type": "code",
   "execution_count": 2,
   "metadata": {},
   "outputs": [
    {
     "name": "stdout",
     "output_type": "stream",
     "text": [
      "12\n",
      "0b1100\n",
      "0o14\n",
      "0xc\n"
     ]
    }
   ],
   "source": [
    "def binary(n):\n",
    "    print(bin(n))\n",
    "def octal(n):\n",
    "    print(oct(n)) \n",
    "def hexadecimal(n):\n",
    "    print(hex(n))\n",
    "n=int(input())\n",
    "binary(n)\n",
    "octal(n)\n",
    "hexadecimal(n)\n"
   ]
  },
  {
   "cell_type": "code",
   "execution_count": 6,
   "metadata": {},
   "outputs": [
    {
     "name": "stdout",
     "output_type": "stream",
     "text": [
      "u\n",
      "ASCII value: 117\n"
     ]
    }
   ],
   "source": [
    "n=input()\n",
    "print(\"ASCII value:\",ord(n))"
   ]
  },
  {
   "cell_type": "code",
   "execution_count": 2,
   "metadata": {},
   "outputs": [
    {
     "name": "stdout",
     "output_type": "stream",
     "text": [
      "5\n",
      "8\n",
      "%\n",
      "operator is not found\n"
     ]
    }
   ],
   "source": [
    "a=int(input())\n",
    "b=int(input())\n",
    "operator=input()\n",
    "if operator==\"+\":\n",
    "    print(a+b)\n",
    "elif operator==\"-\":\n",
    "    print(a-b)\n",
    "elif operator== \"*\":\n",
    "    print(a*b)\n",
    "elif operator==\"/\":\n",
    "    print(a/b)\n",
    "else:\n",
    "    print(\"operator is not found\")"
   ]
  },
  {
   "cell_type": "code",
   "execution_count": null,
   "metadata": {},
   "outputs": [],
   "source": []
  }
 ],
 "metadata": {
  "kernelspec": {
   "display_name": "Python 3",
   "language": "python",
   "name": "python3"
  },
  "language_info": {
   "codemirror_mode": {
    "name": "ipython",
    "version": 3
   },
   "file_extension": ".py",
   "mimetype": "text/x-python",
   "name": "python",
   "nbconvert_exporter": "python",
   "pygments_lexer": "ipython3",
   "version": "3.8.8"
  }
 },
 "nbformat": 4,
 "nbformat_minor": 4
}
