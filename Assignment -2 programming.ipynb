{
 "cells": [
  {
   "cell_type": "code",
   "execution_count": 1,
   "id": "190651fc",
   "metadata": {},
   "outputs": [
    {
     "name": "stdout",
     "output_type": "stream",
     "text": [
      "3456\n",
      "the speed value in miles:\n",
      " 2147.458176\n"
     ]
    }
   ],
   "source": [
    "km=float(input())\n",
    "c=0.621371\n",
    "miles=km*c\n",
    "print(\"the speed value in miles:\\n\",miles)\n"
   ]
  },
  {
   "cell_type": "code",
   "execution_count": 2,
   "id": "5df222f7",
   "metadata": {},
   "outputs": [
    {
     "name": "stdout",
     "output_type": "stream",
     "text": [
      "34\n",
      "93.2\n"
     ]
    }
   ],
   "source": [
    "c=float(input())\n",
    "f=(c*1.8)+32\n",
    "print(f)"
   ]
  },
  {
   "cell_type": "code",
   "execution_count": 3,
   "id": "77fbf76f",
   "metadata": {},
   "outputs": [
    {
     "name": "stdout",
     "output_type": "stream",
     "text": [
      "2022\n",
      "1\n",
      "    January 2022\n",
      "Mo Tu We Th Fr Sa Su\n",
      "                1  2\n",
      " 3  4  5  6  7  8  9\n",
      "10 11 12 13 14 15 16\n",
      "17 18 19 20 21 22 23\n",
      "24 25 26 27 28 29 30\n",
      "31\n",
      "\n"
     ]
    }
   ],
   "source": [
    "import calendar\n",
    "yy=int(input())\n",
    "mm=int(input())\n",
    "print(calendar.month(yy,mm))"
   ]
  },
  {
   "cell_type": "code",
   "execution_count": 4,
   "id": "cf345146",
   "metadata": {},
   "outputs": [
    {
     "name": "stdout",
     "output_type": "stream",
     "text": [
      "17\n",
      "37\n",
      "a= 37\n",
      "b= 17\n"
     ]
    }
   ],
   "source": [
    "a=int(input())\n",
    "b=int(input())\n",
    "a,b=b,a\n",
    "print(\"a=\",a)\n",
    "print(\"b=\",b)"
   ]
  },
  {
   "cell_type": "code",
   "execution_count": 6,
   "id": "514b6b4e",
   "metadata": {},
   "outputs": [
    {
     "name": "stdout",
     "output_type": "stream",
     "text": [
      "3\n",
      "5\n",
      "6\n",
      "(-0.8333333333333334-1.1426091000668406j)\n",
      "(-0.8333333333333334+1.1426091000668406j)\n"
     ]
    }
   ],
   "source": [
    "import cmath\n",
    "a=float(input())\n",
    "b=float(input())\n",
    "c=float(input())\n",
    "d=(b**2)-(4*a*c)\n",
    "sol_1=(-b-cmath.sqrt(d))/(2*a)\n",
    "sol_2=(-b+cmath.sqrt(d))/(2*a)\n",
    "print(sol_1)\n",
    "print(sol_2)"
   ]
  },
  {
   "cell_type": "code",
   "execution_count": null,
   "id": "b773f669",
   "metadata": {},
   "outputs": [],
   "source": []
  }
 ],
 "metadata": {
  "kernelspec": {
   "display_name": "Python 3",
   "language": "python",
   "name": "python3"
  },
  "language_info": {
   "codemirror_mode": {
    "name": "ipython",
    "version": 3
   },
   "file_extension": ".py",
   "mimetype": "text/x-python",
   "name": "python",
   "nbconvert_exporter": "python",
   "pygments_lexer": "ipython3",
   "version": "3.8.8"
  }
 },
 "nbformat": 4,
 "nbformat_minor": 5
}
