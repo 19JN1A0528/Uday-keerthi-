{
 "cells": [
  {
   "cell_type": "code",
   "execution_count": 2,
   "id": "72982d5b",
   "metadata": {},
   "outputs": [
    {
     "name": "stdout",
     "output_type": "stream",
     "text": [
      "6\n",
      "720\n"
     ]
    }
   ],
   "source": [
    "def fact(n):\n",
    "    if n==0 or n==1:\n",
    "        return 1\n",
    "    else:\n",
    "        return n*fact(n-1)\n",
    "n=int(input())\n",
    "print(fact(n))\n",
    "    "
   ]
  },
  {
   "cell_type": "code",
   "execution_count": 4,
   "id": "c9a7aa81",
   "metadata": {},
   "outputs": [
    {
     "name": "stdout",
     "output_type": "stream",
     "text": [
      "13\n",
      "13 X 1 = 13\n",
      "13 X 2 = 26\n",
      "13 X 3 = 39\n",
      "13 X 4 = 52\n",
      "13 X 5 = 65\n",
      "13 X 6 = 78\n",
      "13 X 7 = 91\n",
      "13 X 8 = 104\n",
      "13 X 9 = 117\n",
      "13 X 10 = 130\n"
     ]
    }
   ],
   "source": [
    "a=int(input())\n",
    "for i in range(1,11):\n",
    "    print(a,\"X\",i,\"=\",a*i)"
   ]
  },
  {
   "cell_type": "code",
   "execution_count": 1,
   "id": "3bfa745e",
   "metadata": {},
   "outputs": [
    {
     "name": "stdout",
     "output_type": "stream",
     "text": [
      "7\n",
      "0 1 1 2 3 5 8 "
     ]
    }
   ],
   "source": [
    "a=int(input())\n",
    "b=0\n",
    "c=1\n",
    "for i in range(a):\n",
    "    print(b,end=\" \")\n",
    "    d=b+c\n",
    "    b=c\n",
    "    c=d\n"
   ]
  },
  {
   "cell_type": "code",
   "execution_count": 4,
   "id": "7510a389",
   "metadata": {},
   "outputs": [
    {
     "name": "stdout",
     "output_type": "stream",
     "text": [
      "1634\n",
      "1634 is an Armstrong number\n"
     ]
    }
   ],
   "source": [
    "a=int(input())\n",
    "sum = 0\n",
    "temp = a\n",
    "order=len(str(a))\n",
    "while temp > 0:\n",
    "    d = temp % 10\n",
    "    sum += d ** order\n",
    "    temp //=10\n",
    "if a == sum:\n",
    "    print(a,\"is an Armstrong number\")\n",
    "else:\n",
    "    print(a,\"is not armstrong number\")\n",
    " "
   ]
  },
  {
   "cell_type": "code",
   "execution_count": 3,
   "id": "58c30296",
   "metadata": {},
   "outputs": [
    {
     "name": "stdout",
     "output_type": "stream",
     "text": [
      "1000\n",
      "20000\n",
      "1634\n",
      "8208\n",
      "9474\n"
     ]
    }
   ],
   "source": [
    "a = int(input())\n",
    "b = int(input())\n",
    "for num  in range(a,b + 1):\n",
    "    order = len(str(num))\n",
    "    sum = 0\n",
    "    temp = num\n",
    "    while temp > 0:\n",
    "        d= temp % 10\n",
    "        sum += d**order\n",
    "        temp //=10\n",
    "    if num == sum:\n",
    "        print(num)\n",
    "\n",
    "\n"
   ]
  },
  {
   "cell_type": "code",
   "execution_count": 9,
   "id": "5da71822",
   "metadata": {},
   "outputs": [
    {
     "name": "stdout",
     "output_type": "stream",
     "text": [
      "50\n",
      "the sum is : 1274\n"
     ]
    }
   ],
   "source": [
    "a=int(input())\n",
    "if a < 1000:\n",
    "    sum = 0\n",
    "    while(a > 1):\n",
    "        sum += a\n",
    "        a -= 1\n",
    "    print(\"the sum is :\",sum)\n",
    "    \n",
    "\n",
    "    "
   ]
  },
  {
   "cell_type": "code",
   "execution_count": null,
   "id": "8d301cc5",
   "metadata": {},
   "outputs": [],
   "source": []
  }
 ],
 "metadata": {
  "kernelspec": {
   "display_name": "Python 3",
   "language": "python",
   "name": "python3"
  },
  "language_info": {
   "codemirror_mode": {
    "name": "ipython",
    "version": 3
   },
   "file_extension": ".py",
   "mimetype": "text/x-python",
   "name": "python",
   "nbconvert_exporter": "python",
   "pygments_lexer": "ipython3",
   "version": "3.8.8"
  }
 },
 "nbformat": 4,
 "nbformat_minor": 5
}
