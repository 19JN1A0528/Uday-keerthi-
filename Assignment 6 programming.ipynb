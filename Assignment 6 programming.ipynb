{
 "cells": [
  {
   "cell_type": "code",
   "execution_count": 15,
   "id": "8de5730e",
   "metadata": {
    "scrolled": true
   },
   "outputs": [
    {
     "name": "stdout",
     "output_type": "stream",
     "text": [
      "9\n",
      " recursivre fibonacci series:\n",
      "0 1 1 2 3 5 8 13 21 "
     ]
    }
   ],
   "source": [
    "def fibonacci(n):\n",
    "    if n<=1:\n",
    "        return n\n",
    "    else:\n",
    "        return fibonacci(n-1)+fibonacci(n-2)\n",
    "n=int(input())\n",
    "print(\" recursivre fibonacci series:\")\n",
    "for i in range(n):\n",
    "    print(fibonacci(i),end=' ')\n"
   ]
  },
  {
   "cell_type": "code",
   "execution_count": 17,
   "id": "f2f2cf9a",
   "metadata": {},
   "outputs": [
    {
     "name": "stdout",
     "output_type": "stream",
     "text": [
      "5\n",
      "recursive factorial: 120\n"
     ]
    }
   ],
   "source": [
    "def factorial(n):\n",
    "    if n==1 or n==1:\n",
    "        return 1\n",
    "    else:\n",
    "        return(n*factorial(n-1))\n",
    "n=int(input())\n",
    "print(\"recursive factorial:\",factorial(n))\n"
   ]
  },
  {
   "cell_type": "code",
   "execution_count": 20,
   "id": "220c44b2",
   "metadata": {},
   "outputs": [
    {
     "name": "stdout",
     "output_type": "stream",
     "text": [
      "1.89\n",
      "50\n",
      "The BMI is: 13.997368494722993\n"
     ]
    }
   ],
   "source": [
    "h=float(input())\n",
    "w=int(input())\n",
    "BMI=w/(h**2)\n",
    "print(\"The BMI is:\",format(BMI))"
   ]
  },
  {
   "cell_type": "code",
   "execution_count": 23,
   "id": "a81ff45f",
   "metadata": {},
   "outputs": [
    {
     "name": "stdout",
     "output_type": "stream",
     "text": [
      "3\n",
      "natural log: 1.0986122886681098\n"
     ]
    }
   ],
   "source": [
    "import math\n",
    "n= int(input())\n",
    "a=math.log(n)\n",
    "print(\"natural log:\",a)"
   ]
  },
  {
   "cell_type": "code",
   "execution_count": 36,
   "id": "871522ee",
   "metadata": {},
   "outputs": [
    {
     "name": "stdout",
     "output_type": "stream",
     "text": [
      "10\n",
      "sum of cube of first natural numbers: 3025\n",
      "30\n",
      "sum of cubes of natural numbers: 216225\n"
     ]
    }
   ],
   "source": [
    "def cubesum(n):\n",
    "    s=0\n",
    "    for i in range(1,n+1):  # using loops\n",
    "        s+=i**3\n",
    "    return s\n",
    "n= int(input())\n",
    "print(\"sum of cube of first natural numbers:\",cubesum(n))\n",
    "\n",
    "\n",
    "\n",
    "\n",
    "def cubesum(n):\n",
    "    return(n*(n+1)//2)**2  #using formula\n",
    "n= int(input())\n",
    "print(\"sum of cubes of natural numbers:\",cubesum(n))\n",
    "\n",
    "\n"
   ]
  },
  {
   "cell_type": "code",
   "execution_count": null,
   "id": "efe3d16d",
   "metadata": {},
   "outputs": [],
   "source": []
  }
 ],
 "metadata": {
  "kernelspec": {
   "display_name": "Python 3",
   "language": "python",
   "name": "python3"
  },
  "language_info": {
   "codemirror_mode": {
    "name": "ipython",
    "version": 3
   },
   "file_extension": ".py",
   "mimetype": "text/x-python",
   "name": "python",
   "nbconvert_exporter": "python",
   "pygments_lexer": "ipython3",
   "version": "3.8.8"
  }
 },
 "nbformat": 4,
 "nbformat_minor": 5
}
