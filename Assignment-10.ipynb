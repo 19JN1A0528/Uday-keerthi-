{
 "cells": [
  {
   "cell_type": "code",
   "execution_count": 2,
   "id": "f3ab348b",
   "metadata": {},
   "outputs": [
    {
     "name": "stdout",
     "output_type": "stream",
     "text": [
      "Enter the No of Entries in a List: 5\n",
      "Enter a element: 1\n",
      "Enter a element: 2\n",
      "Enter a element: 3\n",
      "Enter a element: 4\n",
      "Enter a element: 5\n",
      "Sum of Elements: 15\n"
     ]
    }
   ],
   "source": [
    "def sumofList():\n",
    "    in_ele = int(input('Enter the No of Entries in a List: '))\n",
    "    in_list = []\n",
    "    for itr in range(in_ele):\n",
    "        in_list.append(int(input('Enter a element: ')))\n",
    "    print(f'Sum of Elements: {sum(in_list)}')\n",
    "\n",
    "sumofList()"
   ]
  },
  {
   "cell_type": "code",
   "execution_count": 3,
   "id": "7e3661b9",
   "metadata": {},
   "outputs": [
    {
     "name": "stdout",
     "output_type": "stream",
     "text": [
      "Enter the No of Entries in a List: 5\n",
      "Enter a element: 1\n",
      "Enter a element: 2\n",
      "Enter a element: 3\n",
      "Enter a element: 4\n",
      "Enter a element: 5\n",
      "120\n"
     ]
    }
   ],
   "source": [
    "def mulofList():\n",
    "    in_ele = int(input('Enter the No of Entries in a List: '))\n",
    "    in_list = []\n",
    "    mul = 1\n",
    "    for itr in range(in_ele):\n",
    "        in_list.append(int(input('Enter a element: ')))\n",
    "    for ele in in_list:\n",
    "        mul = mul * ele\n",
    "    print(mul)\n",
    "\n",
    "mulofList()\n"
   ]
  },
  {
   "cell_type": "code",
   "execution_count": 4,
   "id": "d47ce835",
   "metadata": {},
   "outputs": [
    {
     "name": "stdout",
     "output_type": "stream",
     "text": [
      "Enter the No of elements in a list: 5\n",
      "Enter a Element: 34\n",
      "Enter a Element: 56\n",
      "Enter a Element: 12\n",
      "Enter a Element: 25\n",
      "Enter a Element: 76\n",
      "The Smallest Element in [34, 56, 12, 25, 76] is 12\n"
     ]
    }
   ],
   "source": [
    "def smallEleInList():\n",
    "    in_ele = int(input('Enter the No of elements in a list: '))\n",
    "    in_list = []\n",
    "    for ele in range(in_ele):\n",
    "        in_list.append(int(input('Enter a Element: ')))\n",
    "    print(f'The Smallest Element in {in_list} is {sorted(in_list)[0]}')\n",
    "smallEleInList()"
   ]
  },
  {
   "cell_type": "code",
   "execution_count": 5,
   "id": "4e8d349f",
   "metadata": {},
   "outputs": [
    {
     "name": "stdout",
     "output_type": "stream",
     "text": [
      "Enter the No of elements in a list: 5\n",
      "Enter a Element: 75\n",
      "Enter a Element: 84\n",
      "Enter a Element: 26\n",
      "Enter a Element: 155\n",
      "Enter a Element: 47\n",
      "The Largest Element in [75, 84, 26, 155, 47] is 155\n"
     ]
    }
   ],
   "source": [
    "def largestEleInList():\n",
    "    in_ele = int(input('Enter the No of elements in a list: '))\n",
    "    in_list = []\n",
    "    for ele in range(in_ele):\n",
    "        in_list.append(int(input('Enter a Element: ')))\n",
    "    print(f'The Largest Element in {in_list} is {sorted(in_list, reverse=True)[0]}')\n",
    "\n",
    "largestEleInList()\n"
   ]
  },
  {
   "cell_type": "code",
   "execution_count": 7,
   "id": "14072e8b",
   "metadata": {},
   "outputs": [
    {
     "name": "stdout",
     "output_type": "stream",
     "text": [
      "Enter the No of elements in a list: 5\n",
      "Enter a Element: 45\n",
      "Enter a Element: 93\n",
      "Enter a Element: 83\n",
      "Enter a Element: 17\n",
      "Enter a Element: 47\n",
      "The Second Largest Element in [45, 93, 83, 17, 47] is 83\n"
     ]
    }
   ],
   "source": [
    "def secondLargestEleInList():\n",
    "    in_ele = int(input('Enter the No of elements in a list: '))\n",
    "    in_list = []\n",
    "    for ele in range(in_ele):\n",
    "        in_list.append(int(input('Enter a Element: ')))\n",
    "    print(f'The Second Largest Element in {in_list} is {sorted(in_list, reverse=True)[1]}')\n",
    "\n",
    "secondLargestEleInList()"
   ]
  },
  {
   "cell_type": "code",
   "execution_count": 8,
   "id": "490bf23a",
   "metadata": {},
   "outputs": [
    {
     "name": "stdout",
     "output_type": "stream",
     "text": [
      "Enter the No of elements in a list: 5\n",
      "Enter a Element: 28\n",
      "Enter a Element: 58\n",
      "Enter a Element: 92\n",
      "Enter a Element: 83\n",
      "Enter a Element: 73\n",
      "The 4 Largest Element in [28, 58, 92, 83, 73] is [92, 83, 73, 58]\n"
     ]
    }
   ],
   "source": [
    "def nLargestEleInList(k):\n",
    "    in_ele = int(input('Enter the No of elements in a list: '))\n",
    "    in_list = []\n",
    "    for ele in range(in_ele):\n",
    "        in_list.append(int(input('Enter a Element: ')))\n",
    "    print(f'The {k} Largest Element in {in_list} is {sorted(in_list, reverse=True)[0:k]}')\n",
    "\n",
    "nLargestEleInList(4)\n"
   ]
  },
  {
   "cell_type": "code",
   "execution_count": 9,
   "id": "2a66f469",
   "metadata": {},
   "outputs": [
    {
     "name": "stdout",
     "output_type": "stream",
     "text": [
      "Enter the No of elements in a list: 6\n",
      "Enter a Element: 1\n",
      "Enter a Element: 2\n",
      "Enter a Element: 3\n",
      "Enter a Element: 4\n",
      "Enter a Element: 5\n",
      "Enter a Element: 6\n",
      "The Even Elements in [1, 2, 3, 4, 5, 6] are [2, 4, 6]\n"
     ]
    }
   ],
   "source": [
    "def evenNoInList():\n",
    "    in_ele = int(input('Enter the No of elements in a list: '))\n",
    "    in_list = []\n",
    "    even_list = []\n",
    "    for ele in range(in_ele):\n",
    "        in_list.append(int(input('Enter a Element: ')))\n",
    "    for ele in in_list:\n",
    "        if ele%2 == 0:\n",
    "            even_list.append(ele)\n",
    "    print(f'The Even Elements in {in_list} are {even_list}')\n",
    "\n",
    "evenNoInList()"
   ]
  },
  {
   "cell_type": "code",
   "execution_count": 10,
   "id": "c9238598",
   "metadata": {},
   "outputs": [
    {
     "name": "stdout",
     "output_type": "stream",
     "text": [
      "Enter the No of elements in a list: 5\n",
      "Enter a Element: 1\n",
      "Enter a Element: 2\n",
      "Enter a Element: 3\n",
      "Enter a Element: 4\n",
      "Enter a Element: 5\n",
      "The Even Elements in [1, 2, 3, 4, 5] are [1, 3, 5]\n"
     ]
    }
   ],
   "source": [
    "def oddNoInList():\n",
    "    in_ele = int(input('Enter the No of elements in a list: '))\n",
    "    in_list = []\n",
    "    odd_list = []\n",
    "    for ele in range(in_ele):\n",
    "        in_list.append(int(input('Enter a Element: ')))\n",
    "    for ele in in_list:\n",
    "        if ele%2 != 0:\n",
    "            odd_list.append(ele)\n",
    "    print(f'The Even Elements in {in_list} are {odd_list}')\n",
    "\n",
    "oddNoInList()\n"
   ]
  },
  {
   "cell_type": "code",
   "execution_count": 3,
   "id": "6ace3c9b",
   "metadata": {},
   "outputs": [
    {
     "name": "stdout",
     "output_type": "stream",
     "text": [
      "Enter all elements of the list: [1,2,3,4,5,[],6,7,8,9,0]\n",
      "There is an Empty list in [1, 2, 3, 4, 5, [], 6, 7, 8, 9, 0] at Position 5\n",
      "The List after removing [] is [1, 2, 3, 4, 5, 6, 7, 8, 9, 0]\n"
     ]
    }
   ],
   "source": [
    "def checkEmptyList():\n",
    "    in_list = eval(input('Enter all elements of the list: '))\n",
    "    if [] in in_list:\n",
    "        print(f'There is an Empty list in {in_list} at Position {in_list.index([])}')\n",
    "        in_list.remove([])\n",
    "        print(f'The List after removing [] is {in_list}')\n",
    "    else:\n",
    "        print(f'There is no [] List in the list {in_list}')\n",
    "        \n",
    "checkEmptyList()"
   ]
  },
  {
   "cell_type": "code",
   "execution_count": 4,
   "id": "dfa34b8c",
   "metadata": {},
   "outputs": [
    {
     "name": "stdout",
     "output_type": "stream",
     "text": [
      "Enter a list[1,2,3,4,5,6,7,8,9,0]\n",
      "[1, 2, 3, 4, 5, 6, 7, 8, 9, 0] 1892402135936\n",
      "[1, 2, 3, 4, 5, 6, 7, 8, 9, 0] 1892402015488\n"
     ]
    }
   ],
   "source": [
    "import copy\n",
    "\n",
    "def cloneList():\n",
    "    in_list = eval(input('Enter a list'))\n",
    "    print(in_list, id(in_list))\n",
    "    cloned_list = in_list.copy()\n",
    "    print(cloned_list, id(cloned_list))\n",
    "\n",
    "cloneList()"
   ]
  },
  {
   "cell_type": "code",
   "execution_count": null,
   "id": "e44d5b3c",
   "metadata": {},
   "outputs": [],
   "source": []
  }
 ],
 "metadata": {
  "kernelspec": {
   "display_name": "Python 3",
   "language": "python",
   "name": "python3"
  },
  "language_info": {
   "codemirror_mode": {
    "name": "ipython",
    "version": 3
   },
   "file_extension": ".py",
   "mimetype": "text/x-python",
   "name": "python",
   "nbconvert_exporter": "python",
   "pygments_lexer": "ipython3",
   "version": "3.8.8"
  }
 },
 "nbformat": 4,
 "nbformat_minor": 5
}
